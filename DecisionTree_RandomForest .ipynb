{
 "cells": [
  {
   "cell_type": "markdown",
   "id": "147ff686",
   "metadata": {},
   "source": [
    "# Importing libraries"
   ]
  },
  {
   "cell_type": "code",
   "execution_count": 2,
   "id": "a9b2cb0d",
   "metadata": {},
   "outputs": [],
   "source": [
    "import numpy as np # linear algebra\n",
    "import pandas as pd # to read the csv file\n",
    "import matplotlib.pyplot as plt # to plot the tree graph\n",
    "import seaborn as sns # to plot\n",
    "\n",
    "from sklearn.model_selection import train_test_split\n",
    "#      lib.module         classs\n",
    "from sklearn.tree import DecisionTreeClassifier\n",
    "from sklearn.tree import DecisionTreeRegressor\n",
    "from sklearn.ensemble import RandomForestClassifier\n",
    "from sklearn.ensemble import RandomForestRegressor\n",
    "\n",
    "#importing datasets\n",
    "from sklearn.datasets import load_boston\n",
    "from sklearn.datasets import load_breast_cancer\n",
    "\n",
    "#importing metrics classes\n",
    "#    liberary.module        #class\n",
    "from sklearn.metrics import mean_absolute_error \n",
    "from sklearn.metrics import mean_squared_error \n",
    "from sklearn.metrics import confusion_matrix"
   ]
  },
  {
   "cell_type": "markdown",
   "id": "4088707e",
   "metadata": {},
   "source": [
    "# Decision Tree Regressor"
   ]
  },
  {
   "cell_type": "code",
   "execution_count": 3,
   "id": "1b0e4808",
   "metadata": {},
   "outputs": [
    {
     "name": "stdout",
     "output_type": "stream",
     "text": [
      "X shape is  (506, 13)\n",
      "X Features are \n",
      " ['CRIM' 'ZN' 'INDUS' 'CHAS' 'NOX' 'RM' 'AGE' 'DIS' 'RAD' 'TAX' 'PTRATIO'\n",
      " 'B' 'LSTAT']\n",
      "y shape is  (506,)\n"
     ]
    }
   ],
   "source": [
    "#load boston data\n",
    "\n",
    "BostonData = load_boston()\n",
    "\n",
    "#X Data\n",
    "X = BostonData.data\n",
    "#print('X Data is \\n' , X[:10])\n",
    "print('X shape is ' , X.shape)\n",
    "print('X Features are \\n' , BostonData.feature_names)\n",
    "\n",
    "#y Data\n",
    "y = BostonData.target\n",
    "#print('y Data is \\n' , y[:10])\n",
    "print('y shape is ' , y.shape)"
   ]
  },
  {
   "cell_type": "code",
   "execution_count": 4,
   "id": "0b4755a3",
   "metadata": {},
   "outputs": [
    {
     "name": "stdout",
     "output_type": "stream",
     "text": [
      "X_train shape is  (404, 13)\n",
      "X_test  shape is  (102, 13)\n",
      "y_train shape is  (404,)\n",
      "y_test  shape is  (102,)\n"
     ]
    }
   ],
   "source": [
    "#Splitting data\n",
    "\n",
    "#Parameters:\n",
    "\n",
    "# x and y are the dataset and the target column \n",
    "\n",
    "# test_size -> 33% of the rows for testing and the rest for training the module \n",
    "\n",
    "# random_state -> fixed value will guarantee that the same sequence of random numbers is generated each time you run the code.\n",
    "\n",
    "X_train, X_test, y_train,y_test = train_test_split(X, y, test_size=0.2, random_state=55) \n",
    "\n",
    "#Splitted Data\n",
    "print('X_train shape is ' , X_train.shape)\n",
    "print('X_test  shape is ' , X_test.shape)\n",
    "print('y_train shape is ' , y_train.shape)\n",
    "print('y_test  shape is ' , y_test.shape)"
   ]
  },
  {
   "cell_type": "code",
   "execution_count": 5,
   "id": "107f6596",
   "metadata": {},
   "outputs": [
    {
     "data": {
      "text/plain": [
       "\"\\nsklearn.tree.DecisionTreeRegressor(criterion='mse’, splitter=’best’, max_depth=None,min_samples_split=2,\\n                                   min_samples_leaf=1,min_weight_fraction_leaf=0.0, max_features=None,\\n                                   random_state=None, max_leaf_nodes=None,min_impurity_decrease=0.0,\\n                                   min_impurity_split=None, presort=False)\\n\""
      ]
     },
     "execution_count": 5,
     "metadata": {},
     "output_type": "execute_result"
    }
   ],
   "source": [
    "#All Parameters\n",
    "#Google their usage\n",
    "'''\n",
    "sklearn.tree.DecisionTreeRegressor(criterion='mse’, splitter=’best’, max_depth=None,min_samples_split=2,\n",
    "                                   min_samples_leaf=1,min_weight_fraction_leaf=0.0, max_features=None,\n",
    "                                   random_state=None, max_leaf_nodes=None,min_impurity_decrease=0.0,\n",
    "                                   min_impurity_split=None, presort=False)\n",
    "'''"
   ]
  },
  {
   "cell_type": "code",
   "execution_count": 7,
   "id": "da326cf4",
   "metadata": {},
   "outputs": [
    {
     "data": {
      "text/plain": [
       "DecisionTreeRegressor(max_depth=6, random_state=33)"
      ]
     },
     "execution_count": 7,
     "metadata": {},
     "output_type": "execute_result"
    }
   ],
   "source": [
    "#Applying DecisionTreeRegressor Model \n",
    "#We crate an object from the class DecisionTreeRegressor and train it \n",
    "\n",
    "# max_depth -> number of tree levels\n",
    "\n",
    "# random_state -> fixed value will guarantee that the same sequence of random numbers is generated each time you run the code.\n",
    "\n",
    "DecisionTreeRegressorModel = DecisionTreeRegressor(max_depth=6, random_state=33)\n",
    "\n",
    "\n",
    "hist = DecisionTreeRegressorModel.fit(X_train, y_train)\n",
    "\n",
    "hist"
   ]
  },
  {
   "cell_type": "code",
   "execution_count": 51,
   "id": "c1b62ba3",
   "metadata": {
    "scrolled": true
   },
   "outputs": [
    {
     "name": "stdout",
     "output_type": "stream",
     "text": [
      "DecisionTreeRegressor Train Score is :  0.9498147873008443\n",
      "DecisionTreeRegressor Test Score is  :  0.7549581684168858\n"
     ]
    }
   ],
   "source": [
    "#Testing the module accuracy \n",
    "print('DecisionTreeRegressor Train Score is : ' , DecisionTreeRegressorModel.score(X_train, y_train))\n",
    "print('DecisionTreeRegressor Test Score is  : ' , DecisionTreeRegressorModel.score(X_test, y_test))"
   ]
  },
  {
   "cell_type": "code",
   "execution_count": 53,
   "id": "902bfbae",
   "metadata": {},
   "outputs": [
    {
     "name": "stdout",
     "output_type": "stream",
     "text": [
      "Predicted Value for DecisionTreeRegressorModel is : \n",
      " [24.065625   14.         20.526      28.8375     30.35384615 19.9641791\n",
      " 13.23636364 19.60769231 23.6137931  23.6137931 ]\n"
     ]
    },
    {
     "data": {
      "text/plain": [
       "array([23. , 18. , 22.7, 24.5, 26.2, 22.9, 16.7, 22.4, 28.4, 32.2])"
      ]
     },
     "execution_count": 53,
     "metadata": {},
     "output_type": "execute_result"
    }
   ],
   "source": [
    "#Comparing predictions\n",
    "y_pred = DecisionTreeRegressorModel.predict(X_test)\n",
    "print('Predicted Value for DecisionTreeRegressorModel is : \\n' , y_pred[:10])\n",
    "y_test[:10]"
   ]
  },
  {
   "cell_type": "code",
   "execution_count": 54,
   "id": "38f46118",
   "metadata": {},
   "outputs": [
    {
     "name": "stdout",
     "output_type": "stream",
     "text": [
      "Mean Absolute Error Value is :  3.102895776879975\n",
      "Mean Squared Error Value is :  17.61544113503274\n"
     ]
    }
   ],
   "source": [
    "#Checkimg the error value\n",
    "\n",
    "#Calculating Mean Absolute Error\n",
    "MAEValue = mean_absolute_error(y_test, y_pred, multioutput='uniform_average') # it can be raw_values\n",
    "print('Mean Absolute Error Value is : ', MAEValue)\n",
    "\n",
    "\n",
    "#Calculating Mean Squared Error\n",
    "MSEValue = mean_squared_error(y_test, y_pred, multioutput='uniform_average') # it can be raw_values\n",
    "print('Mean Squared Error Value is : ', MSEValue)"
   ]
  },
  {
   "cell_type": "markdown",
   "id": "7603d227",
   "metadata": {},
   "source": [
    "# Decision Tree Classifier"
   ]
  },
  {
   "cell_type": "code",
   "execution_count": 55,
   "id": "01af88a1",
   "metadata": {},
   "outputs": [
    {
     "name": "stdout",
     "output_type": "stream",
     "text": [
      "X shape is  (569, 30)\n",
      "X Features are \n",
      " ['mean radius' 'mean texture' 'mean perimeter' 'mean area'\n",
      " 'mean smoothness' 'mean compactness' 'mean concavity'\n",
      " 'mean concave points' 'mean symmetry' 'mean fractal dimension'\n",
      " 'radius error' 'texture error' 'perimeter error' 'area error'\n",
      " 'smoothness error' 'compactness error' 'concavity error'\n",
      " 'concave points error' 'symmetry error' 'fractal dimension error'\n",
      " 'worst radius' 'worst texture' 'worst perimeter' 'worst area'\n",
      " 'worst smoothness' 'worst compactness' 'worst concavity'\n",
      " 'worst concave points' 'worst symmetry' 'worst fractal dimension']\n",
      "y shape is  (569,)\n"
     ]
    }
   ],
   "source": [
    "#load breast cancer data\n",
    "\n",
    "BreastData = load_breast_cancer()\n",
    "\n",
    "#X Data\n",
    "X = BreastData.data\n",
    "#print('X Data is \\n' , X[:10])\n",
    "print('X shape is ' , X.shape)\n",
    "print('X Features are \\n' , BreastData.feature_names)\n",
    "\n",
    "#X = X[:,:5]\n",
    "\n",
    "#y Data\n",
    "y = BreastData.target\n",
    "#print('y Data is \\n' , y[:10])\n",
    "print('y shape is ' , y.shape)\n",
    "#print('y Columns are \\n' , BreastData.target_names)"
   ]
  },
  {
   "cell_type": "code",
   "execution_count": 56,
   "id": "f43cac51",
   "metadata": {
    "scrolled": true
   },
   "outputs": [
    {
     "name": "stdout",
     "output_type": "stream",
     "text": [
      "X_train shape is  (381, 30)\n",
      "X_test shape is  (188, 30)\n",
      "y_train shape is  (381,)\n",
      "y_test shape is  (188,)\n"
     ]
    }
   ],
   "source": [
    "#Splitting data\n",
    "\n",
    "X_train, X_test, y_train, y_test = train_test_split(X, y, test_size=0.33, random_state=44, shuffle =True)\n",
    "\n",
    "#Splitted Data\n",
    "print('X_train shape is ' , X_train.shape)\n",
    "print('X_test shape is ' , X_test.shape)\n",
    "print('y_train shape is ' , y_train.shape)\n",
    "print('y_test shape is ' , y_test.shape)"
   ]
  },
  {
   "cell_type": "code",
   "execution_count": null,
   "id": "9f0eb85f",
   "metadata": {},
   "outputs": [],
   "source": [
    "#All Parameters\n",
    "'''\n",
    "sklearn.tree.DecisionTreeClassifier(criterion='gini’, splitter=’best’, max_depth=None,min_samples_split=2,\n",
    "                                    min_samples_leaf=1,min_weight_fraction_leaf=0.0,max_features=None,\n",
    "                                    random_state=None, max_leaf_nodes=None,min_impurity_decrease=0.0,\n",
    "                                    min_impurity_split=None, class_weight=None,presort=False)\n",
    "'''"
   ]
  },
  {
   "cell_type": "code",
   "execution_count": 58,
   "id": "d58a5805",
   "metadata": {},
   "outputs": [
    {
     "data": {
      "text/plain": [
       "DecisionTreeClassifier(max_depth=3, random_state=33)"
      ]
     },
     "execution_count": 58,
     "metadata": {},
     "output_type": "execute_result"
    }
   ],
   "source": [
    "#Applying DecisionTreeClassifier Model \n",
    "#We crate an object from the class DecisionTreeRegressor and train it \n",
    "\n",
    "# criterion could be entropy\n",
    "\n",
    "DecisionTreeClassifierModel = DecisionTreeClassifier(criterion='gini',max_depth=3,random_state=33) \n",
    "DecisionTreeClassifierModel.fit(X_train, y_train)"
   ]
  },
  {
   "cell_type": "code",
   "execution_count": 59,
   "id": "412172a6",
   "metadata": {},
   "outputs": [
    {
     "name": "stdout",
     "output_type": "stream",
     "text": [
      "DecisionTreeClassifierModel Train Score is :  0.958005249343832\n",
      "DecisionTreeClassifierModel Test Score  is :  0.9202127659574468\n"
     ]
    }
   ],
   "source": [
    "#Calculating Details\n",
    "print('DecisionTreeClassifierModel Train Score is : ' , DecisionTreeClassifierModel.score(X_train, y_train))\n",
    "print('DecisionTreeClassifierModel Test Score  is : ' , DecisionTreeClassifierModel.score(X_test, y_test))\n",
    "#print('DecisionTreeClassifierModel Classes are : ' , DecisionTreeClassifierModel.classes_)\n",
    "#print('DecisionTreeClassifierModel feature importances are : ' , DecisionTreeClassifierModel.feature_importances_)"
   ]
  },
  {
   "cell_type": "code",
   "execution_count": 60,
   "id": "0b10b191",
   "metadata": {},
   "outputs": [
    {
     "name": "stdout",
     "output_type": "stream",
     "text": [
      "Predicted Value for DecisionTreeClassifierModel is : \n",
      " [1 0 1 0 1 1 1 0 0 1]\n"
     ]
    },
    {
     "data": {
      "text/plain": [
       "array([0, 0, 1, 0, 1, 1, 1, 1, 0, 1])"
      ]
     },
     "execution_count": 60,
     "metadata": {},
     "output_type": "execute_result"
    }
   ],
   "source": [
    "\n",
    "#Comparing Prediction\n",
    "y_pred = DecisionTreeClassifierModel.predict(X_test)\n",
    "print('Predicted Value for DecisionTreeClassifierModel is : \\n' , y_pred[:10])\n",
    "y_test[:10]"
   ]
  },
  {
   "cell_type": "code",
   "execution_count": 61,
   "id": "81047493",
   "metadata": {},
   "outputs": [
    {
     "name": "stdout",
     "output_type": "stream",
     "text": [
      "Confusion Matrix is : \n",
      " [[ 58  10]\n",
      " [  5 115]]\n"
     ]
    },
    {
     "data": {
      "image/png": "[encoded data removed]",
      "text/plain": [
       "<Figure size 432x288 with 2 Axes>"
      ]
     },
     "metadata": {
      "needs_background": "light"
     },
     "output_type": "display_data"
    }
   ],
   "source": [
    "#Calculating Confusion Matrix\n",
    "CM = confusion_matrix(y_test, y_pred)\n",
    "print('Confusion Matrix is : \\n', CM)\n",
    "\n",
    "# drawing confusion matrix\n",
    "sns.heatmap(CM, center = True)\n",
    "plt.show()"
   ]
  },
  {
   "cell_type": "markdown",
   "id": "537d7469",
   "metadata": {},
   "source": [
    "# Random Forest Regressor"
   ]
  },
  {
   "cell_type": "code",
   "execution_count": 86,
   "id": "794053f2",
   "metadata": {},
   "outputs": [
    {
     "name": "stdout",
     "output_type": "stream",
     "text": [
      "X Data is \n",
      " [[6.3200e-03 1.8000e+01 2.3100e+00 0.0000e+00 5.3800e-01 6.5750e+00\n",
      "  6.5200e+01 4.0900e+00 1.0000e+00 2.9600e+02 1.5300e+01 3.9690e+02\n",
      "  4.9800e+00]\n",
      " [2.7310e-02 0.0000e+00 7.0700e+00 0.0000e+00 4.6900e-01 6.4210e+00\n",
      "  7.8900e+01 4.9671e+00 2.0000e+00 2.4200e+02 1.7800e+01 3.9690e+02\n",
      "  9.1400e+00]\n",
      " [2.7290e-02 0.0000e+00 7.0700e+00 0.0000e+00 4.6900e-01 7.1850e+00\n",
      "  6.1100e+01 4.9671e+00 2.0000e+00 2.4200e+02 1.7800e+01 3.9283e+02\n",
      "  4.0300e+00]\n",
      " [3.2370e-02 0.0000e+00 2.1800e+00 0.0000e+00 4.5800e-01 6.9980e+00\n",
      "  4.5800e+01 6.0622e+00 3.0000e+00 2.2200e+02 1.8700e+01 3.9463e+02\n",
      "  2.9400e+00]\n",
      " [6.9050e-02 0.0000e+00 2.1800e+00 0.0000e+00 4.5800e-01 7.1470e+00\n",
      "  5.4200e+01 6.0622e+00 3.0000e+00 2.2200e+02 1.8700e+01 3.9690e+02\n",
      "  5.3300e+00]\n",
      " [2.9850e-02 0.0000e+00 2.1800e+00 0.0000e+00 4.5800e-01 6.4300e+00\n",
      "  5.8700e+01 6.0622e+00 3.0000e+00 2.2200e+02 1.8700e+01 3.9412e+02\n",
      "  5.2100e+00]\n",
      " [8.8290e-02 1.2500e+01 7.8700e+00 0.0000e+00 5.2400e-01 6.0120e+00\n",
      "  6.6600e+01 5.5605e+00 5.0000e+00 3.1100e+02 1.5200e+01 3.9560e+02\n",
      "  1.2430e+01]\n",
      " [1.4455e-01 1.2500e+01 7.8700e+00 0.0000e+00 5.2400e-01 6.1720e+00\n",
      "  9.6100e+01 5.9505e+00 5.0000e+00 3.1100e+02 1.5200e+01 3.9690e+02\n",
      "  1.9150e+01]\n",
      " [2.1124e-01 1.2500e+01 7.8700e+00 0.0000e+00 5.2400e-01 5.6310e+00\n",
      "  1.0000e+02 6.0821e+00 5.0000e+00 3.1100e+02 1.5200e+01 3.8663e+02\n",
      "  2.9930e+01]\n",
      " [1.7004e-01 1.2500e+01 7.8700e+00 0.0000e+00 5.2400e-01 6.0040e+00\n",
      "  8.5900e+01 6.5921e+00 5.0000e+00 3.1100e+02 1.5200e+01 3.8671e+02\n",
      "  1.7100e+01]]\n",
      "X shape is  (506, 13)\n",
      "X Features are \n",
      " ['CRIM' 'ZN' 'INDUS' 'CHAS' 'NOX' 'RM' 'AGE' 'DIS' 'RAD' 'TAX' 'PTRATIO'\n",
      " 'B' 'LSTAT']\n"
     ]
    }
   ],
   "source": [
    "#load boston data\n",
    "\n",
    "BostonData = load_boston()\n",
    "\n",
    "#X Data\n",
    "X = BostonData.data\n",
    "print('X Data is \\n' , X[:10]) #first ten rows\n",
    "print('X shape is ' , X.shape)  #the data matrix dimensions\n",
    "print('X Features are \\n' , BostonData.feature_names) #Features names\n",
    "\n",
    "#y Data\n",
    "y = BostonData.target\n",
    "#print('y Data is \\n' , y[:10]) #First 10 rows\n",
    "#print('y shape is ' , y.shape) #the target column dimensions"
   ]
  },
  {
   "cell_type": "code",
   "execution_count": 63,
   "id": "d44270f5",
   "metadata": {},
   "outputs": [
    {
     "name": "stdout",
     "output_type": "stream",
     "text": [
      "X_train shape is  (339, 13)\n",
      "X_test shape is  (167, 13)\n",
      "y_train shape is  (339,)\n",
      "y_test shape is  (167,)\n"
     ]
    }
   ],
   "source": [
    "#Splitting data\n",
    "\n",
    "X_train, X_test, y_train, y_test = train_test_split(X, y, test_size=0.33, random_state=44, shuffle =True)\n",
    "\n",
    "#Splitted Data\n",
    "print('X_train shape is ' , X_train.shape)\n",
    "print('X_test shape is ' , X_test.shape)\n",
    "print('y_train shape is ' , y_train.shape)\n",
    "print('y_test shape is ' , y_test.shape)"
   ]
  },
  {
   "cell_type": "code",
   "execution_count": null,
   "id": "ea4263a1",
   "metadata": {},
   "outputs": [],
   "source": [
    "#All module parameters\n",
    "'''\n",
    "sklearn.ensemble.RandomForestRegressor(n_estimators='warn', criterion=’mse’, max_depth=None,\n",
    "                                       min_samples_split=2, min_samples_leaf=1,min_weight_fraction_leaf=0.0,\n",
    "                                       max_features=’auto’, max_leaf_nodes=None,min_impurity_decrease=0.0,\n",
    "                                       min_impurity_split=None, bootstrap=True,oob_score=False, n_jobs=None,\n",
    "                                       random_state=None, verbose=0,warm_start=False)\n",
    "'''"
   ]
  },
  {
   "cell_type": "code",
   "execution_count": 67,
   "id": "d47d6ddc",
   "metadata": {},
   "outputs": [
    {
     "data": {
      "text/plain": [
       "RandomForestRegressor(max_depth=6, random_state=33)"
      ]
     },
     "execution_count": 67,
     "metadata": {},
     "output_type": "execute_result"
    }
   ],
   "source": [
    "#Applying Random Forest Regressor Model \n",
    "\n",
    "RandomForestRegressorModel = RandomForestRegressor(n_estimators=100,max_depth=6, random_state=33) \n",
    "RandomForestRegressorModel.fit(X_train, y_train)"
   ]
  },
  {
   "cell_type": "code",
   "execution_count": 68,
   "id": "3c8bde46",
   "metadata": {},
   "outputs": [
    {
     "name": "stdout",
     "output_type": "stream",
     "text": [
      "[0.03666575 0.00059004 0.006498   0.00115051 0.02735973 0.37885137\n",
      " 0.0165243  0.04144772 0.00244222 0.01466369 0.01326759 0.00985935\n",
      " 0.45067973]\n"
     ]
    }
   ],
   "source": [
    "print(RandomForestRegressorModel.feature_importances_) \n",
    "# Indicates the importance of each feature in the dataset in predicting the target"
   ]
  },
  {
   "cell_type": "code",
   "execution_count": 69,
   "id": "277f7f27",
   "metadata": {},
   "outputs": [
    {
     "name": "stdout",
     "output_type": "stream",
     "text": [
      "Random Forest Regressor Train Score is :  0.9542427079396084\n",
      "Random Forest Regressor Test Score is :  0.8656404762389455\n",
      "Random Forest Regressor No. of features are :  13\n"
     ]
    }
   ],
   "source": [
    "#Calculating Details\n",
    "\n",
    "print('Random Forest Regressor Train Score is : ' , RandomForestRegressorModel.score(X_train, y_train))\n",
    "print('Random Forest Regressor Test Score is : ' , RandomForestRegressorModel.score(X_test, y_test))\n",
    "print('Random Forest Regressor No. of features are : ' , RandomForestRegressorModel.n_features_) # To get which features are used in the module.\n",
    "\n",
    "# What if we increased the max_depth?"
   ]
  },
  {
   "cell_type": "code",
   "execution_count": 70,
   "id": "ec8a6786",
   "metadata": {},
   "outputs": [
    {
     "name": "stdout",
     "output_type": "stream",
     "text": [
      "Predicted Value for Random Forest Regressor is :  [17.73787618 17.27764648 21.00363197 30.27683334 15.18057982 32.7049328\n",
      " 20.67647177 20.99898128 23.69761113 26.96973482]\n",
      "Predicted Value for Random Forest Regressor is :  [17.8 21.5 21.2 32.4 10.9 31.7 21.4 24.3 29.1 25. ]\n"
     ]
    }
   ],
   "source": [
    "#Calculating Prediction and comparing first ten values\n",
    "y_pred = RandomForestRegressorModel.predict(X_test)\n",
    "print('Predicted Value for Random Forest Regressor is : ' , y_pred[:10])\n",
    "print('Predicted Value for Random Forest Regressor is : ' , y_test[:10])"
   ]
  },
  {
   "cell_type": "code",
   "execution_count": 71,
   "id": "54e45e94",
   "metadata": {},
   "outputs": [
    {
     "name": "stdout",
     "output_type": "stream",
     "text": [
      "Mean Absolute Error Value is :  2.6154134579589114\n",
      "Mean Squared Error Value is :  13.215312830781416\n"
     ]
    }
   ],
   "source": [
    "#Calculating Mean Absolute Error\n",
    "MAEValue = mean_absolute_error(y_test, y_pred, multioutput='uniform_average') # it can be raw_values\n",
    "print('Mean Absolute Error Value is : ', MAEValue)\n",
    "\n",
    "\n",
    "#Calculating Mean Squared Error\n",
    "MSEValue = mean_squared_error(y_test, y_pred, multioutput='uniform_average') # it can be raw_values\n",
    "print('Mean Squared Error Value is : ', MSEValue)"
   ]
  },
  {
   "cell_type": "code",
   "execution_count": 74,
   "id": "09b22924",
   "metadata": {},
   "outputs": [
    {
     "name": "stdout",
     "output_type": "stream",
     "text": [
      "at 10 trees:\n",
      "Random Forest Regressor Train Score is :  0.9098785355688802\n",
      "Random Forest Regressor Test Score  is :  0.8220766208854098\n",
      "\n",
      "\n",
      "at 40 trees:\n",
      "Random Forest Regressor Train Score is :  0.9145202801872985\n",
      "Random Forest Regressor Test Score  is :  0.845356432505299\n",
      "\n",
      "\n",
      "at 70 trees:\n",
      "Random Forest Regressor Train Score is :  0.9166690178435696\n",
      "Random Forest Regressor Test Score  is :  0.8490760136505493\n",
      "\n",
      "\n",
      "at 100 trees:\n",
      "Random Forest Regressor Train Score is :  0.9164506381748746\n",
      "Random Forest Regressor Test Score  is :  0.8468043975253209\n",
      "\n",
      "\n",
      "at 130 trees:\n",
      "Random Forest Regressor Train Score is :  0.9161261844970718\n",
      "Random Forest Regressor Test Score  is :  0.8454721136854813\n",
      "\n",
      "\n",
      "at 160 trees:\n",
      "Random Forest Regressor Train Score is :  0.9165120676039857\n",
      "Random Forest Regressor Test Score  is :  0.845425512574128\n",
      "\n",
      "\n",
      "at 190 trees:\n",
      "Random Forest Regressor Train Score is :  0.9161826861334924\n",
      "Random Forest Regressor Test Score  is :  0.8446811613465858\n",
      "\n",
      "\n",
      "at 220 trees:\n",
      "Random Forest Regressor Train Score is :  0.9158499375030451\n",
      "Random Forest Regressor Test Score  is :  0.8448206910207067\n",
      "\n",
      "\n",
      "at 250 trees:\n",
      "Random Forest Regressor Train Score is :  0.9155590183232251\n",
      "Random Forest Regressor Test Score  is :  0.8451002059338136\n",
      "\n",
      "\n",
      "at 280 trees:\n",
      "Random Forest Regressor Train Score is :  0.9154199078114451\n",
      "Random Forest Regressor Test Score  is :  0.8451559538981344\n",
      "\n",
      "\n"
     ]
    }
   ],
   "source": [
    "# Changing the n_estimators number\n",
    "\n",
    "for k in range(10,300,30):\n",
    "    RandomForestRegressorModel = RandomForestRegressor(n_estimators=k,max_depth=4, random_state=33)\n",
    "    RandomForestRegressorModel.fit(X_train, y_train)\n",
    "    print(f\"at {k} trees:\")\n",
    "    print('Random Forest Regressor Train Score is : ' , RandomForestRegressorModel.score(X_train, y_train))\n",
    "    print('Random Forest Regressor Test Score  is : ' , RandomForestRegressorModel.score(X_test, y_test))\n",
    "    print(\"\\n\")\n",
    "# Generally numbers are close to each other as Boston data set is small."
   ]
  },
  {
   "cell_type": "markdown",
   "id": "96ad2681",
   "metadata": {},
   "source": [
    "# Random Forest Classifier"
   ]
  },
  {
   "cell_type": "code",
   "execution_count": 75,
   "id": "cbcccfb3",
   "metadata": {},
   "outputs": [],
   "source": [
    "#load breast cancer data\n",
    "\n",
    "BreastData = load_breast_cancer()\n",
    "\n",
    "#X Data\n",
    "X = BreastData.data\n",
    "#print('X Data is \\n' , X[:10])\n",
    "#print('X shape is ' , X.shape)\n",
    "#print('X Features are \\n' , BreastData.feature_names)\n",
    "\n",
    "#y Data\n",
    "y = BreastData.target\n",
    "#print('y Data is \\n' , y[:10])\n",
    "#print('y shape is ' , y.shape)\n",
    "#print('y Columns are \\n' , BreastData.target_names)"
   ]
  },
  {
   "cell_type": "code",
   "execution_count": 76,
   "id": "c83f8f30",
   "metadata": {},
   "outputs": [
    {
     "name": "stdout",
     "output_type": "stream",
     "text": [
      "X_train shape is  (381, 30)\n",
      "X_test shape is  (188, 30)\n",
      "y_train shape is  (381,)\n",
      "y_test shape is  (188,)\n"
     ]
    }
   ],
   "source": [
    "#Splitting data\n",
    "\n",
    "X_train, X_test, y_train, y_test = train_test_split(X, y, test_size=0.33, random_state=44, shuffle =True)\n",
    "\n",
    "#Splitted Data\n",
    "print('X_train shape is ' , X_train.shape)\n",
    "print('X_test shape is ' , X_test.shape)\n",
    "print('y_train shape is ' , y_train.shape)\n",
    "print('y_test shape is ' , y_test.shape)"
   ]
  },
  {
   "cell_type": "code",
   "execution_count": null,
   "id": "2c680212",
   "metadata": {},
   "outputs": [],
   "source": [
    "#All parameters\n",
    "\n",
    "'''\n",
    "ensemble.RandomForestClassifier(n_estimators='warn’, criterion=’gini’, max_depth=None,\n",
    "                                min_samples_split=2, min_samples_leaf=1,min_weight_fraction_leaf=0.0,\n",
    "                                max_features='auto’,max_leaf_nodes=None,min_impurity_decrease=0.0,\n",
    "                                min_impurity_split=None, bootstrap=True,oob_score=False, n_jobs=None,\n",
    "                                random_state=None, verbose=0,warm_start=False, class_weight=None)\n",
    "'''"
   ]
  },
  {
   "cell_type": "code",
   "execution_count": 79,
   "id": "cabb9f6b",
   "metadata": {},
   "outputs": [
    {
     "data": {
      "text/plain": [
       "RandomForestClassifier(max_depth=5, random_state=33)"
      ]
     },
     "execution_count": 79,
     "metadata": {},
     "output_type": "execute_result"
    }
   ],
   "source": [
    "#Applying RandomForestClassifier Model \n",
    "\n",
    "#criterion could be entropy \n",
    "\n",
    "RandomForestClassifierModel = RandomForestClassifier(criterion = 'gini',n_estimators=100,max_depth=5,random_state=33) \n",
    "RandomForestClassifierModel.fit(X_train, y_train)"
   ]
  },
  {
   "cell_type": "code",
   "execution_count": 80,
   "id": "2f56582d",
   "metadata": {},
   "outputs": [
    {
     "name": "stdout",
     "output_type": "stream",
     "text": [
      "RandomForestClassifierModel Train Score is :  0.994750656167979\n",
      "RandomForestClassifierModel Test Score  is :  0.9574468085106383\n"
     ]
    }
   ],
   "source": [
    "#Calculating Details\n",
    "\n",
    "print('RandomForestClassifierModel Train Score is : ' , RandomForestClassifierModel.score(X_train, y_train))\n",
    "print('RandomForestClassifierModel Test Score  is : ' , RandomForestClassifierModel.score(X_test, y_test))"
   ]
  },
  {
   "cell_type": "code",
   "execution_count": 81,
   "id": "486a802e",
   "metadata": {},
   "outputs": [
    {
     "name": "stdout",
     "output_type": "stream",
     "text": [
      "RandomForestClassifierModel features importances are : \n",
      " [0.05979229 0.0109262  0.03046426 0.05104234 0.00477196 0.01874119\n",
      " 0.07611334 0.08744199 0.00560143 0.00537699 0.0161985  0.0031615\n",
      " 0.01161387 0.02989502 0.00230186 0.00529225 0.0034778  0.00659654\n",
      " 0.00339814 0.00498092 0.09456963 0.01606933 0.09523038 0.12559802\n",
      " 0.01339321 0.01585966 0.05213413 0.13491771 0.00618795 0.0088516 ]\n"
     ]
    }
   ],
   "source": [
    "print('RandomForestClassifierModel features importances are : \\n' , RandomForestClassifierModel.feature_importances_)"
   ]
  },
  {
   "cell_type": "code",
   "execution_count": 82,
   "id": "823b4bda",
   "metadata": {},
   "outputs": [
    {
     "name": "stdout",
     "output_type": "stream",
     "text": [
      "Predicted Value for RandomForestClassifierModel is :  [0 0 1 0 1 1 1 0 0 1]\n"
     ]
    },
    {
     "data": {
      "text/plain": [
       "array([0, 0, 1, 0, 1, 1, 1, 1, 0, 1])"
      ]
     },
     "execution_count": 82,
     "metadata": {},
     "output_type": "execute_result"
    }
   ],
   "source": [
    "#Calculating Prediction\n",
    "y_pred = RandomForestClassifierModel.predict(X_test)\n",
    "print('Predicted Value for RandomForestClassifierModel is : ' , y_pred[:10])\n",
    "y_test[:10]"
   ]
  },
  {
   "cell_type": "code",
   "execution_count": 83,
   "id": "17066cf9",
   "metadata": {
    "scrolled": true
   },
   "outputs": [
    {
     "name": "stdout",
     "output_type": "stream",
     "text": [
      "Confusion Matrix is : \n",
      " [[ 65   3]\n",
      " [  5 115]]\n"
     ]
    },
    {
     "data": {
      "image/png": "[encoded data removed]",
      "text/plain": [
       "<Figure size 432x288 with 2 Axes>"
      ]
     },
     "metadata": {
      "needs_background": "light"
     },
     "output_type": "display_data"
    }
   ],
   "source": [
    "#Calculating Confusion Matrix\n",
    "CM = confusion_matrix(y_test, y_pred)\n",
    "print('Confusion Matrix is : \\n', CM)\n",
    "\n",
    "# drawing confusion matrix\n",
    "sns.heatmap(CM, center = True)\n",
    "plt.show()"
   ]
  },
  {
   "cell_type": "markdown",
   "id": "0e65efdf",
   "metadata": {},
   "source": [
    "# Shokran"
   ]
  }
 ],
 "metadata": {
  "kernelspec": {
   "display_name": "Python 3 (ipykernel)",
   "language": "python",
   "name": "python3"
  },
  "language_info": {
   "codemirror_mode": {
    "name": "ipython",
    "version": 3
   },
   "file_extension": ".py",
   "mimetype": "text/x-python",
   "name": "python",
   "nbconvert_exporter": "python",
   "pygments_lexer": "ipython3",
   "version": "3.9.7"
  }
 },
 "nbformat": 4,
 "nbformat_minor": 5
}
